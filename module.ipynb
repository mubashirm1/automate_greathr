{
 "cells": [
  {
   "cell_type": "code",
   "execution_count": null,
   "id": "3cf7dc38",
   "metadata": {},
   "outputs": [],
   "source": [
    "from selenium import webdriver\n",
    "\n",
    "def greathr_logger(driver,user_name:str, password:str) -> None:\n",
    "    \"\"\"\n",
    "    loggs in and out of greatHR(https://vcreatek.greythr.com/uas/portal/auth)\n",
    "    inputs - driver: selenium driver instance\n",
    "             username: str\n",
    "             password:str\n",
    "    output - None\n",
    "    \"\"\"\n",
    "    from selenium.webdriver.common.by import By\n",
    "    import time\n",
    "    #go to the site\n",
    "    driver.get(\"https://vcreatek.greythr.com/uas/portal/auth\")\n",
    "    time.sleep(5)\n",
    "    #enter username\n",
    "    driver.set_window_size(3840, 2160)  # set window size\n",
    "    time.sleep(2)\n",
    "    username_input = driver.find_element(By.ID,\"username\")\n",
    "    username_input.send_keys(user_name)\n",
    "    time.sleep(1)\n",
    "    #enter password\n",
    "    password_input = driver.find_element(By.ID,\"password\")\n",
    "    password_input.send_keys(password)\n",
    "    time.sleep(1)\n",
    "    #click login button\n",
    "    login_button = driver.find_element(By.XPATH, '//button[text()=\" Login \"]')\n",
    "    login_button.click()\n",
    "    time.sleep(5)\n",
    "    #click signIn/signOut button\n",
    "    driver.maximize_window()                    # set window size\n",
    "    driver.execute_script(\"window.scrollBy(0, 200);\") # scroll a little down\n",
    "    time.sleep(2)\n",
    "    shadow_host = driver.find_element(By.CSS_SELECTOR, \"gt-button\")\n",
    "    shadow_root = driver.execute_script(\"return arguments[0].shadowRoot\", shadow_host)\n",
    "    sign_in_button = shadow_root.find_element(By.CSS_SELECTOR, 'button[name=\"primary\"]')\n",
    "    sign_in_button.click()\n"
   ]
  },
  {
   "cell_type": "code",
   "execution_count": null,
   "id": "d20f8d90",
   "metadata": {},
   "outputs": [],
   "source": [
    "def fetching_credentials(secret_path:str)-> dict:\n",
    "    \"\"\"\n",
    "    parse credentials details from secret file\n",
    "    input  - secret_path:str\n",
    "    output - credentails: dic(dic(str)) \n",
    "    output format - {name:{username:username,password:password}}\n",
    "    \"\"\"\n",
    "    from dotenv import dotenv_values\n",
    "    from collections import defaultdict\n",
    "    \n",
    "    credentials = defaultdict(lambda: defaultdict(str))\n",
    "    for key,value in dotenv_values(secret_path).items():\n",
    "        user,info = key.lower().split('_')\n",
    "        credentials[user][info] = value \n",
    "    return credentials"
   ]
  }
 ],
 "metadata": {
  "kernelspec": {
   "display_name": "env",
   "language": "python",
   "name": "python3"
  },
  "language_info": {
   "codemirror_mode": {
    "name": "ipython",
    "version": 3
   },
   "file_extension": ".py",
   "mimetype": "text/x-python",
   "name": "python",
   "nbconvert_exporter": "python",
   "pygments_lexer": "ipython3",
   "version": "3.13.2"
  }
 },
 "nbformat": 4,
 "nbformat_minor": 5
}
