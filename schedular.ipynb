{
 "cells": [
  {
   "cell_type": "code",
   "execution_count": null,
   "id": "2a2f1224",
   "metadata": {},
   "outputs": [],
   "source": [
    "from apscheduler.schedulers.blocking import BlockingScheduler\n",
    "from apscheduler.triggers.cron import CronTrigger\n",
    "import import_ipynb\n",
    "from main import main\n",
    "# Create scheduler\n",
    "scheduler = BlockingScheduler()\n",
    "\n",
    "# Run at 9:30 AM and 7:00 PM, Monday to Friday\n",
    "scheduler.add_job(main, CronTrigger(day_of_week='mon-fri', hour='9,19', minute='30,0'))\n",
    "\n",
    "print(\"Scheduler started. Press Ctrl+C to stop.\")\n",
    "scheduler.start()"
   ]
  }
 ],
 "metadata": {
  "kernelspec": {
   "display_name": "env",
   "language": "python",
   "name": "python3"
  },
  "language_info": {
   "codemirror_mode": {
    "name": "ipython",
    "version": 3
   },
   "file_extension": ".py",
   "mimetype": "text/x-python",
   "name": "python",
   "nbconvert_exporter": "python",
   "pygments_lexer": "ipython3",
   "version": "3.13.2"
  }
 },
 "nbformat": 4,
 "nbformat_minor": 5
}
