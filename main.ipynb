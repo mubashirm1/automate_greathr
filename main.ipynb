{
 "cells": [
  {
   "cell_type": "code",
   "execution_count": null,
   "id": "9adcdb57",
   "metadata": {},
   "outputs": [],
   "source": [
    "from module import fetching_credentials,greathr_logger,message_sender\n",
    "from dotenv import dotenv_values\n",
    "from datetime import datetime\n",
    "from selenium import webdriver\n",
    "import time\n",
    "import pytz\n",
    "\n",
    "def main():\n",
    "    credentials = fetching_credentials('.env.secret')\n",
    "    users = list(credentials.keys())\n",
    "    status = 0\n",
    "    for user in users:\n",
    "        for i in range(3):\n",
    "            if status:\n",
    "                continue\n",
    "            driver = webdriver.Chrome()\n",
    "            try:\n",
    "                greathr_logger(driver,credentials[user]['username'],credentials[user]['password'])\n",
    "            except Exception as e:\n",
    "                print(e)\n",
    "                time.sleep(5)\n",
    "                driver.quit()\n",
    "                time.sleep(5)\n",
    "            time.sleep(5)\n",
    "            driver.quit()\n",
    "            print('Successfully logged')\n",
    "            status+=1\n",
    "\n",
    "            if status:\n",
    "                webhook_url = dotenv_values('.env.shared')['WEBHOOK']\n",
    "                ist = pytz.timezone('Asia/Kolkata')\n",
    "                current_ist = datetime.now(ist).strftime(\"%Y-%m-%d %H:%M:%S\")\n",
    "                message = f\"{current_ist}:Logger action completed\"\n",
    "                message_sender(message,webhook_url)\n"
   ]
  }
 ],
 "metadata": {
  "kernelspec": {
   "display_name": "venv",
   "language": "python",
   "name": "python3"
  },
  "language_info": {
   "codemirror_mode": {
    "name": "ipython",
    "version": 3
   },
   "file_extension": ".py",
   "mimetype": "text/x-python",
   "name": "python",
   "nbconvert_exporter": "python",
   "pygments_lexer": "ipython3",
   "version": "3.13.6"
  }
 },
 "nbformat": 4,
 "nbformat_minor": 5
}
