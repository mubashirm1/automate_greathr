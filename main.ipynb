{
 "cells": [
  {
   "cell_type": "code",
   "execution_count": 9,
   "id": "9adcdb57",
   "metadata": {},
   "outputs": [],
   "source": [
    "def main():\n",
    "    import import_ipynb\n",
    "    from module import fetching_credentials,greathr_logger\n",
    "    from selenium import webdriver\n",
    "    import time\n",
    "\n",
    "    credentials = fetching_credentials('.env.secret')\n",
    "    users = list(credentials.keys())\n",
    "    status = 0\n",
    "    for user in users:\n",
    "        for i in range(3):\n",
    "            if status:\n",
    "                continue\n",
    "            driver = webdriver.Chrome()\n",
    "            try:\n",
    "                greathr_logger(driver,credentials[user]['username'],credentials[user]['password'])\n",
    "            except Exception as e:\n",
    "                print(e)\n",
    "                time.sleep(5)\n",
    "                driver.quit()\n",
    "                time.sleep(5)\n",
    "            time.sleep(5)\n",
    "            driver.quit()\n",
    "            print('Successfully logged')\n",
    "            status+=1\n"
   ]
  }
 ],
 "metadata": {
  "kernelspec": {
   "display_name": "env",
   "language": "python",
   "name": "python3"
  },
  "language_info": {
   "codemirror_mode": {
    "name": "ipython",
    "version": 3
   },
   "file_extension": ".py",
   "mimetype": "text/x-python",
   "name": "python",
   "nbconvert_exporter": "python",
   "pygments_lexer": "ipython3",
   "version": "3.13.2"
  }
 },
 "nbformat": 4,
 "nbformat_minor": 5
}
