{
 "cells": [
  {
   "cell_type": "code",
   "execution_count": 1,
   "id": "9adcdb57",
   "metadata": {},
   "outputs": [],
   "source": [
    "from module.fetching_credentials import fetching_credentials\n",
    "from module.greathr_logger import greathr_logger\n",
    "from module.message_sender import message_sender\n",
    "from dotenv import dotenv_values\n",
    "from datetime import datetime\n",
    "from selenium import webdriver\n",
    "from selenium.webdriver.chrome.options import Options\n",
    "import time\n",
    "import pytz\n",
    "\n",
    "def main():\n",
    "    credentials = fetching_credentials('.env.secret')\n",
    "    users = list(credentials.keys())\n",
    "    for user in users:\n",
    "        status = 0\n",
    "        for _ in range(3):\n",
    "            if status:\n",
    "                continue\n",
    "            options = Options()\n",
    "            options.add_argument(\"--headless\")           # Run in headless mode\n",
    "            options.add_argument(\"--disable-dev-shm-usage\")\n",
    "            driver = webdriver.Chrome(options=options)\n",
    "            try:\n",
    "                greathr_logger(driver,credentials[user]['username'],credentials[user]['password'])\n",
    "                time.sleep(5)\n",
    "                driver.quit()\n",
    "                print('Successfully logged')\n",
    "                status+=1\n",
    "            except Exception as e:\n",
    "                error_message = e\n",
    "                time.sleep(5)\n",
    "                driver.quit()\n",
    "                time.sleep(5)\n",
    "\n",
    "            if status:\n",
    "                webhook_url = dotenv_values('.env.shared')['WEBHOOK']\n",
    "                ist = pytz.timezone('Asia/Kolkata')\n",
    "                current_ist = datetime.now(ist).strftime(\"%Y-%m-%d %H:%M:%S\")\n",
    "                message = f\"{current_ist}:Logger action completed for {user}\"\n",
    "                message_sender(message,webhook_url)\n",
    "        if not status:\n",
    "            webhook_url = dotenv_values('.env.shared')['WEBHOOK']\n",
    "            ist = pytz.timezone('Asia/Kolkata')\n",
    "            current_ist = datetime.now(ist).strftime(\"%Y-%m-%d %H:%M:%S\")\n",
    "            message = f\"{current_ist}:Error while logging for {user} \\n Error:{error_message}\"\n",
    "            message_sender(message,webhook_url)\n",
    "\n"
   ]
  }
 ],
 "metadata": {
  "kernelspec": {
   "display_name": "venv",
   "language": "python",
   "name": "python3"
  },
  "language_info": {
   "codemirror_mode": {
    "name": "ipython",
    "version": 3
   },
   "file_extension": ".py",
   "mimetype": "text/x-python",
   "name": "python",
   "nbconvert_exporter": "python",
   "pygments_lexer": "ipython3",
   "version": "3.13.6"
  }
 },
 "nbformat": 4,
 "nbformat_minor": 5
}
