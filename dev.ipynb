{
 "cells": [
  {
   "cell_type": "code",
   "execution_count": null,
   "id": "114b0ddd",
   "metadata": {},
   "outputs": [
    {
     "name": "stdout",
     "output_type": "stream",
     "text": [
      "Failed to send message: 202, \n"
     ]
    }
   ],
   "source": [
    "import requests\n",
    "from dotenv import dotenv_values\n",
    "\n",
    "webhook_url = dotenv_values('.env.shared')['WEBHOOK']\n",
    "\n",
    "message = {\n",
    "    \"attachments\": [\n",
    "        {\n",
    "            \"contentType\": \"application/vnd.microsoft.card.adaptive\",\n",
    "            \"contentUrl\": None,\n",
    "            \"content\": {\n",
    "                \"$schema\": \"http://adaptivecards.io/schemas/adaptive-card.json\",\n",
    "                \"type\": \"AdaptiveCard\",\n",
    "                \"version\": \"1.4\",\n",
    "                \"body\": [\n",
    "                    {\n",
    "                        \"type\": \"TextBlock\",\n",
    "                        \"text\": \"Hello team! Testing messaging via webhook with Adaptive Card.\",\n",
    "                        \"wrap\": True\n",
    "                    }\n",
    "                ]\n",
    "            }\n",
    "        }\n",
    "    ]\n",
    "}\n",
    "response = requests.post(webhook_url, json=message)\n",
    "\n",
    "if response.status_code in [200,202]:\n",
    "    print(\"Message sent successfully!\")\n",
    "else:\n",
    "    print(f\"Failed to send message: {response.status_code}, {response.text}\")\n"
   ]
  }
 ],
 "metadata": {
  "kernelspec": {
   "display_name": "venv",
   "language": "python",
   "name": "python3"
  },
  "language_info": {
   "codemirror_mode": {
    "name": "ipython",
    "version": 3
   },
   "file_extension": ".py",
   "mimetype": "text/x-python",
   "name": "python",
   "nbconvert_exporter": "python",
   "pygments_lexer": "ipython3",
   "version": "3.13.6"
  }
 },
 "nbformat": 4,
 "nbformat_minor": 5
}
